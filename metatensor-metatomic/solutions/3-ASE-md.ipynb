{
 "cells": [
  {
   "cell_type": "markdown",
   "metadata": {},
   "source": [
    "# Running MD with ASE and metatensor\n",
    "\n",
    "Now that we have a working model, let's use it to run some MD simulations! We'll use the MD engines provided within [ASE](https://wiki.fysik.dtu.dk/ase/), since it is easy to run directly inside a jupyter notebook."
   ]
  },
  {
   "cell_type": "code",
   "execution_count": 1,
   "metadata": {},
   "outputs": [],
   "source": [
    "import ase\n",
    "\n",
    "import ase.md\n",
    "import ase.io\n",
    "import ase.units\n",
    "\n",
    "import chemiscope\n",
    "\n",
    "import metatomic.torch.ase_calculator\n"
   ]
  },
  {
   "cell_type": "markdown",
   "metadata": {},
   "source": [
    "We'll start our simulation from the first conformer in our training set"
   ]
  },
  {
   "cell_type": "code",
   "execution_count": 4,
   "metadata": {},
   "outputs": [
    {
     "data": {
      "application/vnd.jupyter.widget-view+json": {
       "model_id": "f756b4c64b434fadab7979055ba43049",
       "version_major": 2,
       "version_minor": 0
      },
      "text/html": [
       "<StructureWidget(meta={'name': ' '}, structures=[{'size': 10, 'names': ['O', 'C', 'C', 'C', 'H', 'H', 'H', 'H', ...}, properties={'index': {'target': 'structure', 'values': [0.0]}}, )>"
      ],
      "text/plain": [
       "<StructureWidget(meta={'name': ' '}, structures=[{'size': 10, 'names': ['O', 'C', 'C', 'C', 'H', 'H', 'H', 'H'…"
      ]
     },
     "execution_count": 4,
     "metadata": {},
     "output_type": "execute_result"
    }
   ],
   "source": [
    "atoms = ase.io.read(\"../propenol_conformers_dftb.xyz\", \"0\")\n",
    "\n",
    "chemiscope.show([atoms], mode=\"structure\")\n"
   ]
  },
  {
   "cell_type": "markdown",
   "metadata": {},
   "source": [
    "`metatomic.torch.ase_calculator.MetatomicCalculator` is an ASE `Calculator` that we can use to load our previously saved model and integrate it with ASE."
   ]
  },
  {
   "cell_type": "code",
   "execution_count": 5,
   "metadata": {},
   "outputs": [],
   "source": [
    "atoms.calc = metatomic.torch.ase_calculator.MetatomicCalculator(\n",
    "    \"propenol-model.pt\",\n",
    "    extensions_directory=\"extensions\",\n",
    ")\n",
    "\n",
    "# we'll also need an integrator for the MD\n",
    "integrator = ase.md.VelocityVerlet(atoms, timestep=1 * ase.units.fs)\n"
   ]
  },
  {
   "cell_type": "markdown",
   "metadata": {},
   "source": [
    "Let's run the simulation for 100 steps, and keep the trajectory around for visualization.\n",
    "\n",
    "| ![TASK](../img/clipboard.png) | Make a copy of the atoms after each simulation step, and put it in the `trajectory` |\n",
    "|----------------------------|-------------------------------------------------------------------------------------|"
   ]
  },
  {
   "cell_type": "code",
   "execution_count": 6,
   "metadata": {},
   "outputs": [],
   "source": [
    "trajectory = [atoms.copy()]\n",
    "\n",
    "for _ in range(100):\n",
    "    integrator.run(1)\n",
    "    trajectory.append(atoms.copy())\n"
   ]
  },
  {
   "cell_type": "markdown",
   "metadata": {},
   "source": [
    "We can now visualize our trajectory."
   ]
  },
  {
   "cell_type": "code",
   "execution_count": 7,
   "metadata": {},
   "outputs": [
    {
     "data": {
      "application/vnd.jupyter.widget-view+json": {
       "model_id": "9a34988278dd4efdb3cb26c1a27f6a5d",
       "version_major": 2,
       "version_minor": 0
      },
      "text/html": [
       "<StructureWidget(meta={'name': ' '}, settings={'structure': [{'playbackDelay': 50}]}, structures=[{'size': 10, 'names': ['O', 'C', 'C', 'C', 'H', 'H', 'H', 'H', ...}, properties={'index': {'target': 'structure', 'values': [0.0, 1.0, 2.0, 3.0,...}, )>"
      ],
      "text/plain": [
       "<StructureWidget(meta={'name': ' '}, settings={'structure': [{'playbackDelay': 50}]}, structures=[{'size': 10,…"
      ]
     },
     "execution_count": 7,
     "metadata": {},
     "output_type": "execute_result"
    }
   ],
   "source": [
    "chemiscope.show(\n",
    "    trajectory, mode=\"structure\", settings={\"structure\": [{\"playbackDelay\": 50}]}\n",
    ")\n"
   ]
  },
  {
   "cell_type": "markdown",
   "metadata": {},
   "source": [
    "Uh oh, it seems that our potential is not very stable …\n",
    "\n",
    "This is to be expected here, since we trained a very simplified potential. There are\n",
    "multiple ways to improve it:\n",
    "\n",
    "- training on more data. This includes training with more representative structures, and\n",
    "  training on both energies and forces simultaneously.\n",
    "- training a more complex model. A first step could be to have different models \n",
    "  for different central atomic species.\n",
    "- adding more physics inside the model\n",
    "\n",
    "For this tutorial, we will start with the last option, demonstrating how\n",
    "`metatomic` allow you to write your own Python code and use it in a simulation,\n",
    "and how it allows you to combine multiple building blocks in a single model.\n",
    "\n",
    "Here, one issue is that our model is not repulsive enough at short distances,\n",
    "and the atoms end up very close to one another. To fix this, in the next\n",
    "notebook we will add a Lennard-Jones baseline predictor to the model."
   ]
  }
 ],
 "metadata": {
  "kernelspec": {
   "display_name": "Python 3 (ipykernel)",
   "language": "python",
   "name": "python3"
  },
  "language_info": {
   "codemirror_mode": {
    "name": "ipython",
    "version": 3
   },
   "file_extension": ".py",
   "mimetype": "text/x-python",
   "name": "python",
   "nbconvert_exporter": "python",
   "pygments_lexer": "ipython3",
   "version": "3.12.8"
  }
 },
 "nbformat": 4,
 "nbformat_minor": 4
}
