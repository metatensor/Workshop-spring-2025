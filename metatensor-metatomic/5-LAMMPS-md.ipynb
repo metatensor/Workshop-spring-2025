{
 "cells": [
  {
   "cell_type": "markdown",
   "metadata": {},
   "source": [
    "# Running MD with LAMMPS\n",
    "\n",
    "In this notebook, we will use LAMMPS (https://lammps.org/) to run a Molecular\n",
    "Dynamics simulation, using the exact same potential we just exported and used\n",
    "from ASE.\n",
    "\n",
    "You'll need to install a version of LAMMPS that can use metatomic models. There are multiple ways to do this, documented [here](https://docs.metatensor.org/metatomic/latest/engines/lammps.html), but the simplest one is to use `conda` to download a pre-compiled version:\n",
    "\n",
    "```bash\n",
    "conda create -n lammps-metatomic-env\n",
    "conda activate lammps-metatomic-env\n",
    "conda install -c metatensor -c conda-forge lammps-metatomic\n",
    "\n",
    "# check that the installation worked\n",
    "lmp -h # should contain metatomic in the \"known pair_style\" section\n",
    "```\n",
    "\n",
    "This demonstrates how metatensor models can be used from multiple MD engines in\n",
    "the same way. Additionally, this shows that while the models are defined using\n",
    "Python, they can be loaded and used from a C++ simulation engine through\n",
    "TorchScript."
   ]
  },
  {
   "cell_type": "code",
   "execution_count": null,
   "metadata": {},
   "outputs": [],
   "source": [
    "import os\n",
    "import subprocess\n",
    "\n",
    "import chemiscope\n",
    "import chemfiles"
   ]
  },
  {
   "cell_type": "markdown",
   "metadata": {},
   "source": [
    "\n",
    "| ![TASK](img/clipboard.png) | Change the path below to the path of your LAMMPS installation including `pair_style metatomic`. |\n",
    "|----------------------------|-------------------------------------------------------------------------------------------------|\n"
   ]
  },
  {
   "cell_type": "code",
   "execution_count": null,
   "metadata": {},
   "outputs": [],
   "source": [
    "LAMMPS_EXE = \".../bin/lmp\"\n",
    "\n",
    "if not os.path.exists(LAMMPS_EXE):\n",
    "    raise Exception(\"Please set the path to LAMMPS\")\n",
    "\n",
    "output = subprocess.run([LAMMPS_EXE, \"-h\"], stdout=subprocess.PIPE, check=True, encoding=\"utf8\")\n",
    "if \"metatomic\" not in output.stdout:\n",
    "    raise Exception(\"This installation of LAMMPS does not support pair_style metatomic\")"
   ]
  },
  {
   "cell_type": "markdown",
   "metadata": {},
   "source": [
    "To run MD with LAMMPS, we'll need two input files: one defining the initial\n",
    "conformation of the atoms and another one defining the simulation settings."
   ]
  },
  {
   "cell_type": "code",
   "execution_count": null,
   "metadata": {},
   "outputs": [],
   "source": [
    "# Write the input structure using ase\n",
    "frame = chemfiles.Trajectory(\"propenol_conformers_dftb.xyz\").read()\n",
    "frame.cell = chemfiles.UnitCell([12, 12, 12])\n",
    "\n",
    "os.makedirs(\"lammps-simulation\", exist_ok=True)\n",
    "out = chemfiles.Trajectory(os.path.join(\"lammps-simulation\", \"propenol.lmp\"), \"w\", \"LAMMPS Data\")\n",
    "out.write(frame)\n",
    "out.close()\n",
    "\n",
    "with open(os.path.join(\"lammps-simulation\", \"propenol.lmp\")) as fd:\n",
    "    print(fd.read())"
   ]
  },
  {
   "cell_type": "markdown",
   "metadata": {},
   "source": [
    "We can use any metatomic model that can output energy with LAMMPS, using [`pair_style metatomic`](https://docs.metatensor.org/metatomic/latest/engines/lammps.html#how-to-use-the-code). The corresponding `pair_coeff` then needs to specify how to transform from the `lammps` atom types (from 1 to N) to the atom types in the model (typically the atomic numbers). This should be specified using \n",
    "\n",
    "```\n",
    "pair_coeff * * <model type for lammps type 1>  <model type for lammps type 2>   ...   <model type for lammps type N>\n",
    "```\n",
    "\n",
    "| ![TASK](img/clipboard.png) | In the LAMMPS input file below, set the correct pair_coeff for the data file above |\n",
    "|----------------------------|------------------------------------------------------------------------------------|"
   ]
  },
  {
   "cell_type": "code",
   "execution_count": null,
   "metadata": {},
   "outputs": [],
   "source": [
    "# Write the LAMMPS input manually\n",
    "\n",
    "LAMMPS_INPUT = \"\"\"\n",
    "# use Angstroms, eV, ps as units\n",
    "units metal\n",
    "boundary p p p\n",
    "\n",
    "# read the data we just wrote with ASE\n",
    "atom_style full\n",
    "read_data propenol.lmp\n",
    "\n",
    "# set atoms masses\n",
    "mass 1 1.008\n",
    "mass 2 12.011\n",
    "mass 3 15.999\n",
    "\n",
    "# Potential definition, using a custom pair style.\n",
    "# This will load the model we just exported\n",
    "pair_style metatomic ../propenol-model-with-lj.pt extensions ../extensions\n",
    "\n",
    "# map from LAMMPS atoms types to the species in the model\n",
    "pair_coeff * * ...\n",
    "\n",
    "timestep 0.001  # 1 fs timestep\n",
    "fix 1 all nve   # use NVE ensemble integration\n",
    "\n",
    "\n",
    "# output information every step: temperature, potential energy, total energy\n",
    "thermo 1\n",
    "thermo_style custom step temp pe etotal\n",
    "\n",
    "\n",
    "# Output the trajectory in XYZ format, using actual atom names\n",
    "# instead of LAMMPS numeric types\n",
    "dump 1 all xyz 1 trajectory.xyz\n",
    "dump_modify 1 element C H O\n",
    "\n",
    "# Run the simulation for 200 steps\n",
    "run 200\n",
    "\"\"\"\n",
    "\n",
    "with open(os.path.join(\"lammps-simulation\", \"run.in\"), \"w\") as fd:\n",
    "    fd.write(LAMMPS_INPUT)\n"
   ]
  },
  {
   "cell_type": "markdown",
   "metadata": {},
   "source": [
    "We can now start the simulation in a sub-process, running LAMMPS with the input\n",
    "file we defined above."
   ]
  },
  {
   "cell_type": "code",
   "execution_count": null,
   "metadata": {},
   "outputs": [],
   "source": [
    "subprocess.run(\n",
    "    [LAMMPS_EXE, \"-in\", \"run.in\"],\n",
    "    cwd=\"lammps-simulation\",\n",
    "    check=True,\n",
    ")\n"
   ]
  },
  {
   "cell_type": "markdown",
   "metadata": {},
   "source": [
    "Let's visualize the trajectory!"
   ]
  },
  {
   "cell_type": "code",
   "execution_count": null,
   "metadata": {},
   "outputs": [],
   "source": [
    "import ase.io\n",
    "\n",
    "trajectory = ase.io.read(os.path.join(\"lammps-simulation\", \"trajectory.xyz\"), \":\", format=\"xyz\")\n",
    "\n",
    "chemiscope.show(\n",
    "    trajectory, mode=\"structure\", settings={\"structure\": [{\"playbackDelay\": 50}]}\n",
    ")\n"
   ]
  }
 ],
 "metadata": {
  "kernelspec": {
   "display_name": "Python 3 (ipykernel)",
   "language": "python",
   "name": "python3"
  },
  "language_info": {
   "codemirror_mode": {
    "name": "ipython",
    "version": 3
   },
   "file_extension": ".py",
   "mimetype": "text/x-python",
   "name": "python",
   "nbconvert_exporter": "python",
   "pygments_lexer": "ipython3",
   "version": "3.12.8"
  }
 },
 "nbformat": 4,
 "nbformat_minor": 4
}
