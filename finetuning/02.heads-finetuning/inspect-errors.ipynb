{
 "cells": [
  {
   "cell_type": "code",
   "execution_count": null,
   "id": "b861623e",
   "metadata": {},
   "outputs": [],
   "source": [
    "from ase.io import read\n",
    "import matplotlib.pyplot as plt\n",
    "import numpy as np"
   ]
  },
  {
   "cell_type": "markdown",
   "id": "aacf3acc-bbb5-477b-99ad-ec10f5aa8a5b",
   "metadata": {},
   "source": [
    "# Example 1 - Li3PS4"
   ]
  },
  {
   "cell_type": "markdown",
   "id": "cd237ef3",
   "metadata": {},
   "source": [
    "## 1.1 Loading the target and predicted data for Li3PS4 Sample"
   ]
  },
  {
   "cell_type": "code",
   "execution_count": null,
   "id": "48a52c51",
   "metadata": {},
   "outputs": [],
   "source": [
    "TARGET_ATOMS_PATH = \"../shared/datasets/Li3PS4-sample/test.xyz\"\n",
    "PREDICTED_ATOMS_PATH = \"Li3PS4-sample-test-predictions.xyz\"\n",
    "\n",
    "target_atoms = read(TARGET_ATOMS_PATH, \":\")\n",
    "predicted_atoms = read(PREDICTED_ATOMS_PATH, \":\")\n",
    "\n",
    "target_energies = np.array([item.get_potential_energy() for item in target_atoms])\n",
    "predicted_energies = np.array([item.get_potential_energy() for item in predicted_atoms])\n",
    "\n",
    "num_atoms = np.array([len(item) for item in target_atoms])\n",
    "target_energies_per_atom = target_energies / num_atoms\n",
    "predicted_energies_per_atom = predicted_energies / num_atoms\n",
    "\n",
    "mae = np.mean(np.abs(target_energies_per_atom - predicted_energies_per_atom)) * 1000  # Convert to meV/atom"
   ]
  },
  {
   "cell_type": "markdown",
   "id": "3a024d71",
   "metadata": {},
   "source": [
    "## 2.2 Plotting the energies pairplot"
   ]
  },
  {
   "cell_type": "code",
   "execution_count": null,
   "id": "e9fa8b81",
   "metadata": {},
   "outputs": [],
   "source": [
    "plt.figure(figsize=(5, 4))\n",
    "plt.scatter(target_energies_per_atom, predicted_energies_per_atom, alpha=0.5, label='MAE: {:.3f} meV/atom'.format(mae))\n",
    "plt.plot(target_energies_per_atom, target_energies_per_atom, color='k', linestyle='--', alpha=0.5)\n",
    "plt.xlabel('Target Energies (eV/atom)')\n",
    "plt.ylabel('Predicted Energies (eV/atom)')\n",
    "plt.title('Target vs Predicted E/atom on Li3PS4 Sample Test Set', loc='left', x=-0.18)\n",
    "plt.legend()\n",
    "plt.tight_layout()\n",
    "plt.savefig('parity_plot_Li3PS4.png',dpi=150)\n",
    "plt.show()"
   ]
  },
  {
   "cell_type": "markdown",
   "id": "bd50856d-8903-4871-8507-ecfdc209846f",
   "metadata": {},
   "source": [
    "# Example 2 - MAD"
   ]
  },
  {
   "cell_type": "markdown",
   "id": "205bdf10",
   "metadata": {},
   "source": [
    "## 2.1 Loading the target and predicted data for MAD Sample"
   ]
  },
  {
   "cell_type": "code",
   "execution_count": null,
   "id": "725a70ce",
   "metadata": {},
   "outputs": [],
   "source": [
    "TARGET_ATOMS_PATH = \"../shared/datasets/MAD-sample/test.xyz\"\n",
    "PREDICTED_ATOMS_PATH = \"MAD-sample-test-predictions.xyz\"\n",
    "\n",
    "target_atoms = read(TARGET_ATOMS_PATH, \":\")\n",
    "predicted_atoms = read(PREDICTED_ATOMS_PATH, \":\")\n",
    "\n",
    "target_energies = np.array([item.get_potential_energy() for item in target_atoms])\n",
    "predicted_energies = np.array([item.get_potential_energy() for item in predicted_atoms])\n",
    "\n",
    "num_atoms = np.array([len(item) for item in target_atoms])\n",
    "target_energies_per_atom = target_energies / num_atoms\n",
    "predicted_energies_per_atom = predicted_energies / num_atoms\n",
    "\n",
    "mae = np.mean(np.abs(target_energies_per_atom - predicted_energies_per_atom)) * 1000  # Convert to meV/atom"
   ]
  },
  {
   "cell_type": "markdown",
   "id": "2a0b4f35",
   "metadata": {},
   "source": [
    "## 2.2 Plotting the energies pairplot"
   ]
  },
  {
   "cell_type": "code",
   "execution_count": null,
   "id": "2ac10a83",
   "metadata": {},
   "outputs": [],
   "source": [
    "plt.figure(figsize=(5, 4))\n",
    "plt.scatter(target_energies_per_atom, predicted_energies_per_atom, alpha=0.5, label='MAE: {:.3f} meV/atom'.format(mae))\n",
    "plt.plot(target_energies_per_atom, target_energies_per_atom, color='k', linestyle='--', alpha=0.5)\n",
    "plt.xlabel('Target Energies (eV/atom)')\n",
    "plt.ylabel('Predicted Energies (eV/atom)')\n",
    "plt.title('Target vs Predicted E/atom on MAD Sample Test Set', loc='left', x=-0.2)\n",
    "plt.legend()\n",
    "plt.tight_layout()\n",
    "plt.savefig('parity_plot_MAD.png',dpi=150)\n",
    "plt.show()"
   ]
  },
  {
   "cell_type": "code",
   "execution_count": null,
   "id": "dedc9fe7-36bc-4a46-b042-bf3f41577427",
   "metadata": {},
   "outputs": [],
   "source": []
  },
  {
   "cell_type": "code",
   "execution_count": null,
   "id": "35c54cb3-528a-41b4-8347-4d9852e1196d",
   "metadata": {},
   "outputs": [],
   "source": []
  }
 ],
 "metadata": {
  "kernelspec": {
   "display_name": "Python 3 (ipykernel)",
   "language": "python",
   "name": "python3"
  },
  "language_info": {
   "codemirror_mode": {
    "name": "ipython",
    "version": 3
   },
   "file_extension": ".py",
   "mimetype": "text/x-python",
   "name": "python",
   "nbconvert_exporter": "python",
   "pygments_lexer": "ipython3",
   "version": "3.12.3"
  }
 },
 "nbformat": 4,
 "nbformat_minor": 5
}
