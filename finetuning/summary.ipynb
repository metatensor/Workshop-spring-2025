{
 "cells": [
  {
   "cell_type": "code",
   "execution_count": null,
   "metadata": {},
   "outputs": [],
   "source": [
    "import ase\n",
    "from ase.io import read\n",
    "from typing import List\n",
    "import matplotlib.pyplot as plt\n",
    "import numpy as np"
   ]
  },
  {
   "cell_type": "code",
   "execution_count": null,
   "metadata": {},
   "outputs": [],
   "source": [
    "FINE_TUNING_STRATEGIES = {\n",
    "    \"initial\": \"00.initial-evaluation\",\n",
    "    \"full\": \"01.full-finetuning\",\n",
    "    \"heads\": \"02.heads-finetuning\",\n",
    "    \"lora\": \"03.lora-finetuning\",\n",
    "    \"transfer\": \"04.transfer-learning\"\n",
    "}\n",
    "\n",
    "def get_mae(target_atoms: List[ase.Atoms], predicted_atoms: List[ase.Atoms], target: str = 'energy') -> float:\n",
    "    \"\"\"\n",
    "    Reads the predicted and target energies from the atoms objects and computes the \n",
    "    predictions MAE in meV/atom.\n",
    "    \"\"\"\n",
    "    if target == 'energy':\n",
    "        target_energies = np.array([item.get_potential_energy() for item in target_atoms])\n",
    "        predicted_energies = np.array([item.get_potential_energy() for item in predicted_atoms])\n",
    "    else:\n",
    "        target_energies = np.array([item.info[target] for item in target_atoms])\n",
    "        predicted_energies = np.array([item.info[target] for item in predicted_atoms])\n",
    "\n",
    "    num_atoms = np.array([len(item) for item in target_atoms])\n",
    "    target_energies_per_atom = target_energies / num_atoms\n",
    "    predicted_energies_per_atom = predicted_energies / num_atoms\n",
    "\n",
    "    mae = np.mean(np.abs(target_energies_per_atom - predicted_energies_per_atom)) * 1000  # Convert to meV/atom\n",
    "    return mae"
   ]
  },
  {
   "cell_type": "markdown",
   "metadata": {},
   "source": [
    "# 1. Loading the fine-tuning results and computing the MAE"
   ]
  },
  {
   "cell_type": "code",
   "execution_count": null,
   "metadata": {},
   "outputs": [],
   "source": [
    "Li3PS4_target_atoms = read(\"shared/datasets/Li3PS4-sample/test.xyz\", \":\")\n",
    "MAD_target_atoms = read(\"shared/datasets/MAD-sample/test.xyz\", \":\")\n",
    "fine_tuning_results = {}\n",
    "for strategy, path in FINE_TUNING_STRATEGIES.items():\n",
    "    Li3PS4_predicted_atoms = read(f\"{path}/Li3PS4-sample-test-predictions.xyz\", \":\")\n",
    "    MAD_predicted_atoms = read(f\"{path}/MAD-sample-test-predictions.xyz\", \":\")\n",
    "    if strategy == \"transfer\":\n",
    "        target = 'mtt::r2scan_energy'\n",
    "    else:\n",
    "        target = 'energy'\n",
    "    fine_tuning_results[strategy] = {\n",
    "        \"Li3PS4\": get_mae(Li3PS4_target_atoms, Li3PS4_predicted_atoms, target=target),\n",
    "        \"MAD\": get_mae(MAD_target_atoms, MAD_predicted_atoms)\n",
    "    }"
   ]
  },
  {
   "cell_type": "markdown",
   "metadata": {},
   "source": [
    "# 2. Plotting the results"
   ]
  },
  {
   "cell_type": "code",
   "execution_count": null,
   "metadata": {},
   "outputs": [],
   "source": [
    "plt.figure(figsize=(8, 4))\n",
    "for i, strategy in enumerate(FINE_TUNING_STRATEGIES):\n",
    "    Li3PS4_mae = fine_tuning_results[strategy][\"Li3PS4\"]\n",
    "    MAD_mae = fine_tuning_results[strategy][\"MAD\"]\n",
    "    x = list(FINE_TUNING_STRATEGIES.keys()).index(strategy)\n",
    "    plt.bar(x - 0.2, Li3PS4_mae, width=0.4, color=f\"C{i}\",\n",
    "            label=f\"Li3PS4 MAE: {Li3PS4_mae:.3f} meV/atom\")\n",
    "    plt.bar(x + 0.2, MAD_mae, width=0.4, color=f\"C{i}\", alpha=0.5,\n",
    "            label=f\"MAD MAE: {MAD_mae:.3f} meV/atom\")\n",
    "    plt.xticks(range(len(FINE_TUNING_STRATEGIES)), list(FINE_TUNING_STRATEGIES.keys()))\n",
    "    \n",
    "\n",
    "plt.xlabel(\"Fine-tuning strategy\")\n",
    "plt.ylabel(\"MAE (meV/atom)\")\n",
    "plt.title(\"MAE of fine-tuning strategies on Li3PS4 and MAD samples\")\n",
    "plt.legend(loc=(1.01, 0.0))\n",
    "plt.show()"
   ]
  }
 ],
 "metadata": {
  "kernelspec": {
   "display_name": "Python 3 (ipykernel)",
   "language": "python",
   "name": "python3"
  },
  "language_info": {
   "codemirror_mode": {
    "name": "ipython",
    "version": 3
   },
   "file_extension": ".py",
   "mimetype": "text/x-python",
   "name": "python",
   "nbconvert_exporter": "python",
   "pygments_lexer": "ipython3",
   "version": "3.12.3"
  }
 },
 "nbformat": 4,
 "nbformat_minor": 4
}
